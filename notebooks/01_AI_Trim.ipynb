{
  "cells": [
    {
      "cell_type": "markdown",
      "metadata": {
        "id": "O2_BGf0IGWdP"
      },
      "source": [
        "# AI Video Editor\n"
      ]
    },
    {
      "cell_type": "markdown",
      "metadata": {},
      "source": [
        "## Generating the MP3 from MP4 Video"
      ]
    },
    {
      "cell_type": "code",
      "execution_count": null,
      "metadata": {
        "colab": {
          "base_uri": "https://localhost:8080/"
        },
        "id": "VkhYoh0ZGoLC",
        "outputId": "f92c9d68-5c54-47bc-f767-783b61c7c460"
      },
      "outputs": [
        {
          "name": "stdout",
          "output_type": "stream",
          "text": [
            "ffmpeg version 4.4.2-0ubuntu0.22.04.1 Copyright (c) 2000-2021 the FFmpeg developers\n",
            "  built with gcc 11 (Ubuntu 11.2.0-19ubuntu1)\n",
            "  configuration: --prefix=/usr --extra-version=0ubuntu0.22.04.1 --toolchain=hardened --libdir=/usr/lib/x86_64-linux-gnu --incdir=/usr/include/x86_64-linux-gnu --arch=amd64 --enable-gpl --disable-stripping --enable-gnutls --enable-ladspa --enable-libaom --enable-libass --enable-libbluray --enable-libbs2b --enable-libcaca --enable-libcdio --enable-libcodec2 --enable-libdav1d --enable-libflite --enable-libfontconfig --enable-libfreetype --enable-libfribidi --enable-libgme --enable-libgsm --enable-libjack --enable-libmp3lame --enable-libmysofa --enable-libopenjpeg --enable-libopenmpt --enable-libopus --enable-libpulse --enable-librabbitmq --enable-librubberband --enable-libshine --enable-libsnappy --enable-libsoxr --enable-libspeex --enable-libsrt --enable-libssh --enable-libtheora --enable-libtwolame --enable-libvidstab --enable-libvorbis --enable-libvpx --enable-libwebp --enable-libx265 --enable-libxml2 --enable-libxvid --enable-libzimg --enable-libzmq --enable-libzvbi --enable-lv2 --enable-omx --enable-openal --enable-opencl --enable-opengl --enable-sdl2 --enable-pocketsphinx --enable-librsvg --enable-libmfx --enable-libdc1394 --enable-libdrm --enable-libiec61883 --enable-chromaprint --enable-frei0r --enable-libx264 --enable-shared\n",
            "  libavutil      56. 70.100 / 56. 70.100\n",
            "  libavcodec     58.134.100 / 58.134.100\n",
            "  libavformat    58. 76.100 / 58. 76.100\n",
            "  libavdevice    58. 13.100 / 58. 13.100\n",
            "  libavfilter     7.110.100 /  7.110.100\n",
            "  libswscale      5.  9.100 /  5.  9.100\n",
            "  libswresample   3.  9.100 /  3.  9.100\n",
            "  libpostproc    55.  9.100 / 55.  9.100\n",
            "Input #0, mov,mp4,m4a,3gp,3g2,mj2, from 'input.mp4':\n",
            "  Metadata:\n",
            "    major_brand     : isom\n",
            "    minor_version   : 512\n",
            "    compatible_brands: isomiso2avc1mp41\n",
            "    encoder         : Lavf61.7.100\n",
            "  Duration: 00:05:00.06, start: 0.016009, bitrate: 319 kb/s\n",
            "  Stream #0:0(und): Video: h264 (Main) (avc1 / 0x31637661), yuv420p(tv, bt709), 1280x720 [SAR 1:1 DAR 16:9], 187 kb/s, 29.97 fps, 29.97 tbr, 30k tbn, 59.94 tbc (default)\n",
            "    Metadata:\n",
            "      handler_name    : ISO Media file produced by Google Inc.\n",
            "      vendor_id       : [0][0][0][0]\n",
            "  Stream #0:1(eng): Audio: aac (LC) (mp4a / 0x6134706D), 44100 Hz, stereo, fltp, 128 kb/s (default)\n",
            "    Metadata:\n",
            "      handler_name    : ISO Media file produced by Google Inc.\n",
            "      vendor_id       : [0][0][0][0]\n",
            "Stream mapping:\n",
            "  Stream #0:1 -> #0:0 (aac (native) -> mp3 (libmp3lame))\n",
            "Press [q] to stop, [?] for help\n",
            "Output #0, mp3, to 'audio.mp3':\n",
            "  Metadata:\n",
            "    major_brand     : isom\n",
            "    minor_version   : 512\n",
            "    compatible_brands: isomiso2avc1mp41\n",
            "    TSSE            : Lavf58.76.100\n",
            "  Stream #0:0(eng): Audio: mp3, 44100 Hz, stereo, fltp (default)\n",
            "    Metadata:\n",
            "      handler_name    : ISO Media file produced by Google Inc.\n",
            "      vendor_id       : [0][0][0][0]\n",
            "      encoder         : Lavc58.134.100 libmp3lame\n",
            "size=    6403kB time=00:04:59.99 bitrate= 174.8kbits/s speed=57.2x    \n",
            "video:0kB audio:6402kB subtitle:0kB other streams:0kB global headers:0kB muxing overhead: 0.005430%\n"
          ]
        }
      ],
      "source": [
        "!ffmpeg -analyzeduration 100M -probesize 100M -i input.mp4 -vn -q:a 0 -map a audio.mp3"
      ]
    },
    {
      "cell_type": "markdown",
      "metadata": {},
      "source": [
        "## Transcription"
      ]
    },
    {
      "cell_type": "code",
      "execution_count": null,
      "metadata": {
        "colab": {
          "base_uri": "https://localhost:8080/"
        },
        "id": "57SVRkVlz3DJ",
        "outputId": "bcdc9d7d-54ec-42e0-dbeb-9cec94a6066c"
      },
      "outputs": [
        {
          "name": "stdout",
          "output_type": "stream",
          "text": [
            "Requirement already satisfied: groq in /usr/local/lib/python3.11/dist-packages (0.18.0)\n",
            "Requirement already satisfied: anyio<5,>=3.5.0 in /usr/local/lib/python3.11/dist-packages (from groq) (3.7.1)\n",
            "Requirement already satisfied: distro<2,>=1.7.0 in /usr/local/lib/python3.11/dist-packages (from groq) (1.9.0)\n",
            "Requirement already satisfied: httpx<1,>=0.23.0 in /usr/local/lib/python3.11/dist-packages (from groq) (0.28.1)\n",
            "Requirement already satisfied: pydantic<3,>=1.9.0 in /usr/local/lib/python3.11/dist-packages (from groq) (2.10.6)\n",
            "Requirement already satisfied: sniffio in /usr/local/lib/python3.11/dist-packages (from groq) (1.3.1)\n",
            "Requirement already satisfied: typing-extensions<5,>=4.10 in /usr/local/lib/python3.11/dist-packages (from groq) (4.12.2)\n",
            "Requirement already satisfied: idna>=2.8 in /usr/local/lib/python3.11/dist-packages (from anyio<5,>=3.5.0->groq) (3.10)\n",
            "Requirement already satisfied: certifi in /usr/local/lib/python3.11/dist-packages (from httpx<1,>=0.23.0->groq) (2025.1.31)\n",
            "Requirement already satisfied: httpcore==1.* in /usr/local/lib/python3.11/dist-packages (from httpx<1,>=0.23.0->groq) (1.0.7)\n",
            "Requirement already satisfied: h11<0.15,>=0.13 in /usr/local/lib/python3.11/dist-packages (from httpcore==1.*->httpx<1,>=0.23.0->groq) (0.14.0)\n",
            "Requirement already satisfied: annotated-types>=0.6.0 in /usr/local/lib/python3.11/dist-packages (from pydantic<3,>=1.9.0->groq) (0.7.0)\n",
            "Requirement already satisfied: pydantic-core==2.27.2 in /usr/local/lib/python3.11/dist-packages (from pydantic<3,>=1.9.0->groq) (2.27.2)\n"
          ]
        }
      ],
      "source": [
        "!pip install groq"
      ]
    },
    {
      "cell_type": "code",
      "execution_count": null,
      "metadata": {
        "colab": {
          "base_uri": "https://localhost:8080/"
        },
        "id": "rsYQ7yy0He8S",
        "outputId": "036672f6-04cf-48bc-be8d-c1c7ae69fd71"
      },
      "outputs": [
        {
          "name": "stdout",
          "output_type": "stream",
          "text": [
            "[{'id': 0, 'seek': 0, 'start': 0, 'end': 3.12, 'text': \" He didn't die, he lived, but he was a really healthy guy.\", 'tokens': [50365, 634, 994, 380, 978, 11, 415, 5152, 11, 457, 415, 390, 257, 534, 4627, 2146, 13, 50521], 'temperature': 0, 'avg_logprob': -0.18401876, 'compression_ratio': 1.7934783, 'no_speech_prob': 3.009394e-12}, {'id': 1, 'seek': 0, 'start': 3.14, 'end': 3.58, 'text': ' He was an athlete.', 'tokens': [50522, 634, 390, 364, 18002, 13, 50544], 'temperature': 0, 'avg_logprob': -0.18401876, 'compression_ratio': 1.7934783, 'no_speech_prob': 3.009394e-12}, {'id': 2, 'seek': 0, 'start': 3.58, 'end': 4.64, 'text': ' But he was psyched out the same after his life.', 'tokens': [50544, 583, 415, 390, 4681, 292, 484, 264, 912, 934, 702, 993, 13, 50597], 'temperature': 0, 'avg_logprob': -0.18401876, 'compression_ratio': 1.7934783, 'no_speech_prob': 3.009394e-12}, {'id': 3, 'seek': 0, 'start': 4.64, 'end': 8.86, 'text': ' Yeah, he had knee problems, and he took Vioxx, and all of a sudden he was slurring his words,', 'tokens': [50597, 865, 11, 415, 632, 9434, 2740, 11, 293, 415, 1890, 691, 13973, 87, 11, 293, 439, 295, 257, 3990, 415, 390, 1061, 374, 2937, 702, 2283, 11, 50808], 'temperature': 0, 'avg_logprob': -0.18401876, 'compression_ratio': 1.7934783, 'no_speech_prob': 3.009394e-12}, {'id': 4, 'seek': 0, 'start': 8.86, 'end': 10.52, 'text': \" and he couldn't concentrate, and people were like,\", 'tokens': [50808, 293, 415, 2809, 380, 18089, 11, 293, 561, 645, 411, 11, 50891], 'temperature': 0, 'avg_logprob': -0.18401876, 'compression_ratio': 1.7934783, 'no_speech_prob': 3.009394e-12}, {'id': 5, 'seek': 0, 'start': 10.66, 'end': 13.1, 'text': \" I think you're having a fucking stroke, and they took him to the hospital,\", 'tokens': [50898, 286, 519, 291, 434, 1419, 257, 5546, 12403, 11, 293, 436, 1890, 796, 281, 264, 4530, 11, 51020], 'temperature': 0, 'avg_logprob': -0.18401876, 'compression_ratio': 1.7934783, 'no_speech_prob': 3.009394e-12}, {'id': 6, 'seek': 0, 'start': 13.26, 'end': 15.88, 'text': ' and then you have this giant class action lawsuit,', 'tokens': [51028, 293, 550, 291, 362, 341, 7410, 1508, 3069, 22504, 11, 51159], 'temperature': 0, 'avg_logprob': -0.18401876, 'compression_ratio': 1.7934783, 'no_speech_prob': 3.009394e-12}, {'id': 7, 'seek': 0, 'start': 16.14, 'end': 18.4, 'text': ' and then Vioxx gets pulled from the market, and they get sued,', 'tokens': [51172, 293, 550, 691, 13973, 87, 2170, 7373, 490, 264, 2142, 11, 293, 436, 483, 33864, 11, 51285], 'temperature': 0, 'avg_logprob': -0.18401876, 'compression_ratio': 1.7934783, 'no_speech_prob': 3.009394e-12}, {'id': 8, 'seek': 0, 'start': 18.54, 'end': 22.26, 'text': \" and the whole thing's fucking crazy, but there's a long history of this.\", 'tokens': [51292, 293, 264, 1379, 551, 311, 5546, 3219, 11, 457, 456, 311, 257, 938, 2503, 295, 341, 13, 51478], 'temperature': 0, 'avg_logprob': -0.18401876, 'compression_ratio': 1.7934783, 'no_speech_prob': 3.009394e-12}, {'id': 9, 'seek': 0, 'start': 22.54, 'end': 23.86, 'text': ' I think, what is the number?', 'tokens': [51492, 286, 519, 11, 437, 307, 264, 1230, 30, 51558], 'temperature': 0, 'avg_logprob': -0.18401876, 'compression_ratio': 1.7934783, 'no_speech_prob': 3.009394e-12}, {'id': 10, 'seek': 0, 'start': 23.96, 'end': 27.24, 'text': ' Like one-third of the drugs that the FDA approves gets pulled?', 'tokens': [51563, 1743, 472, 12, 25095, 295, 264, 7766, 300, 264, 18933, 2075, 977, 2170, 7373, 30, 51727], 'temperature': 0, 'avg_logprob': -0.18401876, 'compression_ratio': 1.7934783, 'no_speech_prob': 3.009394e-12}, {'id': 11, 'seek': 0, 'start': 27.86, 'end': 29.28, 'text': \" It's fucking bananas.\", 'tokens': [51758, 467, 311, 5546, 22742, 13, 51829], 'temperature': 0, 'avg_logprob': -0.18401876, 'compression_ratio': 1.7934783, 'no_speech_prob': 3.009394e-12}, {'id': 12, 'seek': 0, 'start': 29.38, 'end': 29.96, 'text': ' That is crazy.', 'tokens': [51834, 663, 307, 3219, 13, 51863], 'temperature': 0, 'avg_logprob': -0.18401876, 'compression_ratio': 1.7934783, 'no_speech_prob': 3.009394e-12}, {'id': 13, 'seek': 3000, 'start': 30, 'end': 34.72, 'text': \" That's crazy. You're shitty at one-third of the things that you say are okay\", 'tokens': [50365, 663, 311, 3219, 13, 509, 434, 30748, 412, 472, 12, 25095, 295, 264, 721, 300, 291, 584, 366, 1392, 50601], 'temperature': 0, 'avg_logprob': -0.2901079, 'compression_ratio': 1.75, 'no_speech_prob': 2.3712568e-12}, {'id': 14, 'seek': 3000, 'start': 35.1, 'end': 38.36, 'text': \" But you're trying to stop MDMA therapy for veterans\", 'tokens': [50620, 583, 291, 434, 1382, 281, 1590, 22521, 9998, 9492, 337, 14343, 50783], 'temperature': 0, 'avg_logprob': -0.2901079, 'compression_ratio': 1.75, 'no_speech_prob': 2.3712568e-12}, {'id': 15, 'seek': 3000, 'start': 38.74, 'end': 43.16, 'text': \" Yeah, they should let MDMA through honestly that think they're actually help a lot of people\", 'tokens': [50802, 865, 11, 436, 820, 718, 22521, 9998, 807, 6095, 300, 519, 436, 434, 767, 854, 257, 688, 295, 561, 51023], 'temperature': 0, 'avg_logprob': -0.2901079, 'compression_ratio': 1.75, 'no_speech_prob': 2.3712568e-12}, {'id': 16, 'seek': 3000, 'start': 43.16, 'end': 47.18, 'text': \" It would help a lot of people and a lot of people. There's a lot of different therapies\", 'tokens': [51023, 467, 576, 854, 257, 688, 295, 561, 293, 257, 688, 295, 561, 13, 821, 311, 257, 688, 295, 819, 32814, 51224], 'temperature': 0, 'avg_logprob': -0.2901079, 'compression_ratio': 1.75, 'no_speech_prob': 2.3712568e-12}, {'id': 17, 'seek': 3000, 'start': 47.62, 'end': 53.62, 'text': ' specifically psilocybin ibogaine the fact you have to go to Mexico to get ibogaine therapy for veterans', 'tokens': [51246, 4682, 18815, 388, 31078, 13496, 39073, 664, 7119, 264, 1186, 291, 362, 281, 352, 281, 8612, 281, 483, 39073, 664, 7119, 9492, 337, 14343, 51546], 'temperature': 0, 'avg_logprob': -0.2901079, 'compression_ratio': 1.75, 'no_speech_prob': 2.3712568e-12}, {'id': 18, 'seek': 5362, 'start': 53.94, 'end': 60.84, 'text': \" So many guys I've talked to have gone over there and it's like completely giving them a clean slate refresh their mind and\", 'tokens': [50381, 407, 867, 1074, 286, 600, 2825, 281, 362, 2780, 670, 456, 293, 309, 311, 411, 2584, 2902, 552, 257, 2541, 39118, 15134, 641, 1575, 293, 50726], 'temperature': 0, 'avg_logprob': -0.2940304, 'compression_ratio': 1.5753968, 'no_speech_prob': 5.0693943e-13}, {'id': 19, 'seek': 5362, 'start': 61.34, 'end': 69.22, 'text': ' Totally new perspective on life alleviated depression cured addictions illegal. Yeah illegal Oxycontin go get it', 'tokens': [50751, 22837, 777, 4585, 322, 993, 33201, 770, 10799, 29617, 909, 15607, 11905, 13, 865, 11905, 422, 12876, 9000, 259, 352, 483, 309, 51145], 'temperature': 0, 'avg_logprob': -0.2940304, 'compression_ratio': 1.5753968, 'no_speech_prob': 5.0693943e-13}, {'id': 20, 'seek': 70, 'start': 69.98, 'end': 80.35062, 'text': ' Yeah And I know some people who like their life was ruined by Oxycontin Oh yeah Because I mean it really depends on you know somebody individual biochemistry', 'tokens': [51183, 865, 51272, 51272, 400, 286, 458, 512, 561, 567, 411, 641, 993, 390, 17013, 538, 422, 12876, 9000, 259, 51446, 51446, 50649, 876, 11, 1338, 13, 50672, 50679, 1436, 11, 286, 914, 11, 309, 534, 5946, 322, 11, 291, 458, 11, 2618, 311, 2609, 12198, 48353, 13, 50882], 'temperature': 0, 'avg_logprob': -0.21517509, 'compression_ratio': 1.625498, 'no_speech_prob': 1.8833518e-12}, {'id': 21, 'seek': 70, 'start': 81.29061, 'end': 84.15061, 'text': ' Like, to me, like, opioids are not addictive to me.', 'tokens': [50929, 1743, 11, 281, 385, 11, 411, 11, 47845, 366, 406, 36486, 281, 385, 13, 51072], 'temperature': 0, 'avg_logprob': -0.21517509, 'compression_ratio': 1.625498, 'no_speech_prob': 1.8833518e-12}, {'id': 22, 'seek': 70, 'start': 84.25061, 'end': 93.37061, 'text': \" Like, you know, I've had them when I've had operations or something, and they barely affect my pain level, and they make me, like, itchy and uncomfortable.\", 'tokens': [51077, 1743, 11, 291, 458, 11, 286, 600, 632, 552, 562, 286, 600, 632, 7705, 420, 746, 11, 293, 436, 10268, 3345, 452, 1822, 1496, 11, 293, 436, 652, 385, 11, 411, 11, 47360, 293, 10532, 13, 51533], 'temperature': 0, 'avg_logprob': -0.21517509, 'compression_ratio': 1.625498, 'no_speech_prob': 1.8833518e-12}, {'id': 23, 'seek': 70, 'start': 94.03061, 'end': 95.17061, 'text': ' They make me stupid.', 'tokens': [51566, 814, 652, 385, 6631, 13, 51623], 'temperature': 0, 'avg_logprob': -0.21517509, 'compression_ratio': 1.625498, 'no_speech_prob': 1.8833518e-12}, {'id': 24, 'seek': 70, 'start': 96.05061, 'end': 96.53061, 'text': ' Exactly.', 'tokens': [51667, 7587, 13, 51691], 'temperature': 0, 'avg_logprob': -0.21517509, 'compression_ratio': 1.625498, 'no_speech_prob': 1.8833518e-12}, {'id': 25, 'seek': 2722, 'start': 96.53061, 'end': 102.73061, 'text': \" But I'm like – so like I could never get addicted to alcohol or opioids.\", 'tokens': [50365, 583, 286, 478, 411, 1662, 370, 411, 286, 727, 1128, 483, 24629, 281, 7658, 420, 47845, 13, 50675], 'temperature': 0, 'avg_logprob': -0.16966963, 'compression_ratio': 1.6996198, 'no_speech_prob': 1.868747e-12}, {'id': 26, 'seek': 2722, 'start': 102.87061, 'end': 108.590614, 'text': \" It's just impossible because my biochemistry just does not have – but I love tasty food.\", 'tokens': [50682, 467, 311, 445, 6243, 570, 452, 12198, 48353, 445, 775, 406, 362, 1662, 457, 286, 959, 11535, 1755, 13, 50968], 'temperature': 0, 'avg_logprob': -0.16966963, 'compression_ratio': 1.6996198, 'no_speech_prob': 1.868747e-12}, {'id': 27, 'seek': 2722, 'start': 108.770615, 'end': 113.630615, 'text': \" I feel like if there's – I'm addicted to tasty food, sure.\", 'tokens': [50977, 286, 841, 411, 498, 456, 311, 1662, 286, 478, 24629, 281, 11535, 1755, 11, 988, 13, 51220], 'temperature': 0, 'avg_logprob': -0.16966963, 'compression_ratio': 1.6996198, 'no_speech_prob': 1.868747e-12}, {'id': 28, 'seek': 2722, 'start': 114.89061, 'end': 118.71062, 'text': \" But like I have a whole wall of alcohol that's there for decoration.\", 'tokens': [51283, 583, 411, 286, 362, 257, 1379, 2929, 295, 7658, 300, 311, 456, 337, 26538, 13, 51474], 'temperature': 0, 'avg_logprob': -0.16966963, 'compression_ratio': 1.6996198, 'no_speech_prob': 1.868747e-12}, {'id': 29, 'seek': 2722, 'start': 119.11061, 'end': 120.29061, 'text': ' I have a dungeon basically.', 'tokens': [51494, 286, 362, 257, 27919, 1936, 13, 51553], 'temperature': 0, 'avg_logprob': -0.16966963, 'compression_ratio': 1.6996198, 'no_speech_prob': 1.868747e-12}, {'id': 30, 'seek': 2722, 'start': 120.29061, 'end': 121.05061, 'text': ' I feel the same way.', 'tokens': [51553, 286, 841, 264, 912, 636, 13, 51591], 'temperature': 0, 'avg_logprob': -0.16966963, 'compression_ratio': 1.6996198, 'no_speech_prob': 1.868747e-12}, {'id': 31, 'seek': 2722, 'start': 121.17061, 'end': 122.39061, 'text': ' I could easily quit alcohol.', 'tokens': [51597, 286, 727, 3612, 10366, 7658, 13, 51658], 'temperature': 0, 'avg_logprob': -0.16966963, 'compression_ratio': 1.6996198, 'no_speech_prob': 1.868747e-12}, {'id': 32, 'seek': 2722, 'start': 122.39061, 'end': 124.69061, 'text': \" I mean I'll go weeks without having a drink.\", 'tokens': [51658, 286, 914, 286, 603, 352, 3259, 1553, 1419, 257, 2822, 13, 51773], 'temperature': 0, 'avg_logprob': -0.16966963, 'compression_ratio': 1.6996198, 'no_speech_prob': 1.868747e-12}, {'id': 33, 'seek': 2722, 'start': 124.81061, 'end': 125.590614, 'text': \" It doesn't bother me at all.\", 'tokens': [51779, 467, 1177, 380, 8677, 385, 412, 439, 13, 51818], 'temperature': 0, 'avg_logprob': -0.16966963, 'compression_ratio': 1.6996198, 'no_speech_prob': 1.868747e-12}, {'id': 34, 'seek': 5628, 'start': 125.590614, 'end': 129.11061, 'text': \" But I know some people they have one drink and they're off to the races and that's the difference in the\", 'tokens': [50365, 583, 286, 458, 512, 561, 436, 362, 472, 2822, 293, 436, 434, 766, 281, 264, 15484, 293, 300, 311, 264, 2649, 294, 264, 50541], 'temperature': 0, 'avg_logprob': -0.17928626, 'compression_ratio': 1.8449367, 'no_speech_prob': 1.2995324e-12}, {'id': 35, 'seek': 5628, 'start': 129.99062, 'end': 134.83061, 'text': \" Biochemical differences that we all have. Yeah. Yeah, I mean I think that's the case with a lot of addictions\", 'tokens': [50585, 26840, 34114, 7300, 300, 321, 439, 362, 13, 865, 13, 865, 11, 286, 914, 286, 519, 300, 311, 264, 1389, 365, 257, 688, 295, 909, 15607, 50827], 'temperature': 0, 'avg_logprob': -0.17928626, 'compression_ratio': 1.8449367, 'no_speech_prob': 1.2995324e-12}, {'id': 36, 'seek': 5628, 'start': 134.83061, 'end': 138.2106, 'text': \" I'm not addicted to gambling, but I get it. I see it. I've seen it in people\", 'tokens': [50827, 286, 478, 406, 24629, 281, 27077, 11, 457, 286, 483, 309, 13, 286, 536, 309, 13, 286, 600, 1612, 309, 294, 561, 50996], 'temperature': 0, 'avg_logprob': -0.17928626, 'compression_ratio': 1.8449367, 'no_speech_prob': 1.2995324e-12}, {'id': 37, 'seek': 5628, 'start': 138.2106, 'end': 142.55061, 'text': \" But I'm I'm I have this aversion to things that I know are gonna ruin my life\", 'tokens': [50996, 583, 286, 478, 286, 478, 286, 362, 341, 257, 29153, 281, 721, 300, 286, 458, 366, 799, 15514, 452, 993, 51213], 'temperature': 0, 'avg_logprob': -0.17928626, 'compression_ratio': 1.8449367, 'no_speech_prob': 1.2995324e-12}, {'id': 38, 'seek': 145, 'start': 142.55061, 'end': 157.48123, 'text': ' I see that why I never tried cocaine I just saw too many people that it looks too fun I like I don want to get involved Yeah I mean I think generally for any given drug legal or illegal the question is can you', 'tokens': [51213, 286, 536, 300, 311, 983, 286, 600, 1128, 3031, 33933, 13, 286, 445, 1866, 886, 867, 561, 300, 309, 1542, 886, 1019, 51494, 51494, 286, 478, 411, 286, 500, 281, 483, 3288, 13, 50602, 50611, 865, 13, 50618, 50625, 286, 914, 11, 286, 519, 5101, 337, 604, 2212, 4110, 11, 5089, 420, 11905, 11, 264, 1168, 307, 11, 393, 291, 50988], 'temperature': 0, 'avg_logprob': -0.24362148, 'compression_ratio': 1.6583333, 'no_speech_prob': 1.943099e-12}, {'id': 39, 'seek': 145, 'start': 157.48123, 'end': 158.98123, 'text': ' complete the following sentence?', 'tokens': [50988, 3566, 264, 3480, 8174, 30, 51063], 'temperature': 0, 'avg_logprob': -0.24362148, 'compression_ratio': 1.6583333, 'no_speech_prob': 1.943099e-12}, {'id': 40, 'seek': 145, 'start': 159.24123, 'end': 160.66122, 'text': ' Blank made me a better person.', 'tokens': [51076, 2177, 657, 1027, 385, 257, 1101, 954, 13, 51147], 'temperature': 0, 'avg_logprob': -0.24362148, 'compression_ratio': 1.6583333, 'no_speech_prob': 1.943099e-12}, {'id': 41, 'seek': 145, 'start': 161.82123, 'end': 162.26123, 'text': ' Meth.', 'tokens': [51205, 48602, 13, 51227], 'temperature': 0, 'avg_logprob': -0.24362148, 'compression_ratio': 1.6583333, 'no_speech_prob': 1.943099e-12}, {'id': 42, 'seek': 145, 'start': 163.38123, 'end': 167.00122, 'text': \" Like, I've never heard anyone say meth made them a better person or cocaine made them\", 'tokens': [51283, 1743, 11, 286, 600, 1128, 2198, 2878, 584, 23416, 1027, 552, 257, 1101, 954, 420, 33933, 1027, 552, 51464], 'temperature': 0, 'avg_logprob': -0.24362148, 'compression_ratio': 1.6583333, 'no_speech_prob': 1.943099e-12}, {'id': 43, 'seek': 145, 'start': 167.00122, 'end': 168.50122, 'text': ' a better person ever.', 'tokens': [51464, 257, 1101, 954, 1562, 13, 51539], 'temperature': 0, 'avg_logprob': -0.24362148, 'compression_ratio': 1.6583333, 'no_speech_prob': 1.943099e-12}, {'id': 44, 'seek': 145, 'start': 169.46123, 'end': 172.14122, 'text': ' Made a lot of soldiers better, I think.', 'tokens': [51587, 18330, 257, 688, 295, 8892, 1101, 11, 286, 519, 13, 51721], 'temperature': 0, 'avg_logprob': -0.24362148, 'compression_ratio': 1.6583333, 'no_speech_prob': 1.943099e-12}, {'id': 45, 'seek': 2857, 'start': 172.14122, 'end': 176.68123, 'text': \" that's yeah I mean if you're doing if you're like if your soldiers need to\", 'tokens': [50365, 300, 311, 1338, 286, 914, 498, 291, 434, 884, 498, 291, 434, 411, 498, 428, 8892, 643, 281, 50592], 'temperature': 0, 'avg_logprob': -0.21059607, 'compression_ratio': 1.7387388, 'no_speech_prob': 1.4897393e-12}, {'id': 46, 'seek': 2857, 'start': 176.68123, 'end': 182.28122, 'text': \" march for three days in a row yeah it does it's really effective at that you\", 'tokens': [50592, 8368, 337, 1045, 1708, 294, 257, 5386, 1338, 309, 775, 309, 311, 534, 4942, 412, 300, 291, 50872], 'temperature': 0, 'avg_logprob': -0.21059607, 'compression_ratio': 1.7387388, 'no_speech_prob': 1.4897393e-12}, {'id': 47, 'seek': 2857, 'start': 182.28122, 'end': 187.96123, 'text': ' know yeah I keep people give like France a hard time but you know capitulating in', 'tokens': [50872, 458, 1338, 286, 1066, 561, 976, 411, 6190, 257, 1152, 565, 457, 291, 458, 33807, 12162, 294, 51156], 'temperature': 0, 'avg_logprob': -0.21059607, 'compression_ratio': 1.7387388, 'no_speech_prob': 1.4897393e-12}, {'id': 48, 'seek': 2857, 'start': 187.96123, 'end': 191.92123, 'text': \" World War two but but you know what's what's worse than the Nazis Nazis on\", 'tokens': [51156, 3937, 3630, 732, 457, 457, 291, 458, 437, 311, 437, 311, 5324, 813, 264, 29812, 29812, 322, 51354], 'temperature': 0, 'avg_logprob': -0.21059607, 'compression_ratio': 1.7387388, 'no_speech_prob': 1.4897393e-12}, {'id': 49, 'seek': 2857, 'start': 191.92123, 'end': 198.64122, 'text': \" meth they're not stopping Norman Ohler six bullets they're like they're still\", 'tokens': [51354, 23416, 436, 434, 406, 12767, 30475, 876, 1918, 2309, 20132, 436, 434, 411, 436, 434, 920, 51690], 'temperature': 0, 'avg_logprob': -0.21059607, 'compression_ratio': 1.7387388, 'no_speech_prob': 1.4897393e-12}, {'id': 50, 'seek': 5507, 'start': 198.64122, 'end': 204.70123, 'text': ' coming that book over there blitzed is all about the use of methamphetamines and the different', 'tokens': [50365, 1348, 300, 1446, 670, 456, 888, 6862, 292, 307, 439, 466, 264, 764, 295, 1131, 4822, 8999, 335, 1652, 293, 264, 819, 50668], 'temperature': 0, 'avg_logprob': -0.12021449, 'compression_ratio': 1.8449613, 'no_speech_prob': 1.7971289e-12}, {'id': 51, 'seek': 5507, 'start': 204.70123, 'end': 208.24123, 'text': ' drugs that they gave their soldiers the guys the front of the line they gave the most meth', 'tokens': [50668, 7766, 300, 436, 2729, 641, 8892, 264, 1074, 264, 1868, 295, 264, 1622, 436, 2729, 264, 881, 23416, 50845], 'temperature': 0, 'avg_logprob': -0.12021449, 'compression_ratio': 1.8449613, 'no_speech_prob': 1.7971289e-12}, {'id': 52, 'seek': 5507, 'start': 208.24123, 'end': 214.62122, 'text': \" yes they have different dosages yeah i mean you just basically think you're on vulnerable on meth\", 'tokens': [50845, 2086, 436, 362, 819, 4491, 1660, 1338, 741, 914, 291, 445, 1936, 519, 291, 434, 322, 10955, 322, 23416, 51164], 'temperature': 0, 'avg_logprob': -0.12021449, 'compression_ratio': 1.8449613, 'no_speech_prob': 1.7971289e-12}, {'id': 53, 'seek': 220, 'start': 214.62122, 'end': 230.49184, 'text': ' and uh so it one thing like i said so one thing we you know have like the nazis coming after you but nazis on meth you like holy shit those fuckers are not stopping for three three days They not stopping It so crazy Yeah Yeah that not a statement meth made me a better person that you hear very often', 'tokens': [51164, 293, 2232, 370, 309, 311, 472, 551, 411, 741, 848, 370, 472, 551, 321, 291, 458, 362, 411, 264, 20151, 271, 1348, 934, 291, 51478, 51478, 457, 20151, 271, 322, 23416, 291, 434, 411, 10622, 4611, 729, 3275, 433, 366, 406, 12767, 337, 1045, 1708, 436, 434, 51681, 50365, 286, 434, 406, 12767, 13, 50639, 50649, 467, 311, 370, 3219, 13, 50694, 50700, 865, 13, 50708, 50712, 865, 11, 300, 311, 406, 257, 5629, 11, 23416, 1027, 385, 257, 1101, 954, 11, 300, 291, 1568, 588, 2049, 13, 50888], 'temperature': 0, 'avg_logprob': -0.19699274, 'compression_ratio': 1.7604166, 'no_speech_prob': 2.7399823e-12}, {'id': 54, 'seek': 220, 'start': 230.51183, 'end': 231.21182, 'text': \" I've never heard that before.\", 'tokens': [50889, 286, 600, 1128, 2198, 300, 949, 13, 50924], 'temperature': 0, 'avg_logprob': -0.19699274, 'compression_ratio': 1.7604166, 'no_speech_prob': 2.7399823e-12}, {'id': 55, 'seek': 220, 'start': 231.35184, 'end': 233.33183, 'text': ' No, you hear a lot of, like, psilocybin advocates.', 'tokens': [50931, 883, 11, 291, 1568, 257, 688, 295, 11, 411, 11, 18815, 388, 31078, 13496, 25160, 13, 51030], 'temperature': 0, 'avg_logprob': -0.19699274, 'compression_ratio': 1.7604166, 'no_speech_prob': 2.7399823e-12}, {'id': 56, 'seek': 220, 'start': 233.65182, 'end': 235.79182, 'text': ' You hear a lot of people that talk about psychedelics.', 'tokens': [51046, 509, 1568, 257, 688, 295, 561, 300, 751, 466, 47732, 1167, 13, 51153], 'temperature': 0, 'avg_logprob': -0.19699274, 'compression_ratio': 1.7604166, 'no_speech_prob': 2.7399823e-12}, {'id': 57, 'seek': 220, 'start': 236.45183, 'end': 236.81183, 'text': ' Exactly.', 'tokens': [51186, 7587, 13, 51204], 'temperature': 0, 'avg_logprob': -0.19699274, 'compression_ratio': 1.7604166, 'no_speech_prob': 2.7399823e-12}, {'id': 58, 'seek': 220, 'start': 237.05183, 'end': 245.17183, 'text': \" I've actually heard many people say that LSD or mushrooms or MDMA made them a better person.\", 'tokens': [51216, 286, 600, 767, 2198, 867, 561, 584, 300, 441, 23969, 420, 17973, 420, 22521, 9998, 1027, 552, 257, 1101, 954, 13, 51622], 'temperature': 0, 'avg_logprob': -0.19699274, 'compression_ratio': 1.7604166, 'no_speech_prob': 2.7399823e-12}, {'id': 59, 'seek': 220, 'start': 245.45183, 'end': 245.67183, 'text': ' Yeah.', 'tokens': [51636, 865, 13, 51647], 'temperature': 0, 'avg_logprob': -0.19699274, 'compression_ratio': 1.7604166, 'no_speech_prob': 2.7399823e-12}, {'id': 60, 'seek': 220, 'start': 245.69183, 'end': 246.15182, 'text': ' Many people.', 'tokens': [51648, 5126, 561, 13, 51671], 'temperature': 0, 'avg_logprob': -0.19699274, 'compression_ratio': 1.7604166, 'no_speech_prob': 2.7399823e-12}, {'id': 61, 'seek': 220, 'start': 246.33183, 'end': 246.59183, 'text': ' Yeah.', 'tokens': [51680, 865, 13, 51693], 'temperature': 0, 'avg_logprob': -0.19699274, 'compression_ratio': 1.7604166, 'no_speech_prob': 2.7399823e-12}, {'id': 62, 'seek': 2876, 'start': 246.59183, 'end': 259.69183, 'text': \" So that's why I'm like, I think a rule for the FDA should be like, hey, look, if you can complete the sentence, legal or illegal, that blank made you a better person, actually, then you got a good drug.\", 'tokens': [50365, 407, 300, 311, 983, 286, 478, 411, 11, 286, 519, 257, 4978, 337, 264, 18933, 820, 312, 411, 11, 4177, 11, 574, 11, 498, 291, 393, 3566, 264, 8174, 11, 5089, 420, 11905, 11, 300, 8247, 1027, 291, 257, 1101, 954, 11, 767, 11, 550, 291, 658, 257, 665, 4110, 13, 51020], 'temperature': 0, 'avg_logprob': -0.075487986, 'compression_ratio': 1.7675277, 'no_speech_prob': 1.4610692e-12}, {'id': 63, 'seek': 2876, 'start': 260.05182, 'end': 261.93182, 'text': \" And if you can't, you got a bad drug.\", 'tokens': [51038, 400, 498, 291, 393, 380, 11, 291, 658, 257, 1578, 4110, 13, 51132], 'temperature': 0, 'avg_logprob': -0.075487986, 'compression_ratio': 1.7675277, 'no_speech_prob': 1.4610692e-12}, {'id': 64, 'seek': 2876, 'start': 262.23184, 'end': 274.45184, 'text': \" Also, if there's drugs that are available right now that can absolutely ruin people's lives, the rationalization for stopping other drugs that might ruin people's lives but also can help a lot of people's lives, it doesn't make any sense.\", 'tokens': [51147, 2743, 11, 498, 456, 311, 7766, 300, 366, 2435, 558, 586, 300, 393, 3122, 15514, 561, 311, 2909, 11, 264, 15090, 2144, 337, 12767, 661, 7766, 300, 1062, 15514, 561, 311, 2909, 457, 611, 393, 854, 257, 688, 295, 561, 311, 2909, 11, 309, 1177, 380, 652, 604, 2020, 13, 51758], 'temperature': 0, 'avg_logprob': -0.075487986, 'compression_ratio': 1.7675277, 'no_speech_prob': 1.4610692e-12}, {'id': 65, 'seek': 5662, 'start': 274.45184, 'end': 275.45184, 'text': ' Right.', 'tokens': [50365, 1779, 13, 50415], 'temperature': 0, 'avg_logprob': -0.15338223, 'compression_ratio': 1.8554217, 'no_speech_prob': 5.291779e-13}, {'id': 66, 'seek': 5662, 'start': 275.45184, 'end': 277.95184, 'text': \" It's basically the same thing as censorship.\", 'tokens': [50415, 467, 311, 1936, 264, 912, 551, 382, 40985, 13, 50540], 'temperature': 0, 'avg_logprob': -0.15338223, 'compression_ratio': 1.8554217, 'no_speech_prob': 5.291779e-13}, {'id': 67, 'seek': 5662, 'start': 277.95184, 'end': 282.07184, 'text': \" You're taking away people's ability to discern what's true and not true, and you're taking\", 'tokens': [50540, 509, 434, 1940, 1314, 561, 311, 3485, 281, 30868, 437, 311, 2074, 293, 406, 2074, 11, 293, 291, 434, 1940, 50746], 'temperature': 0, 'avg_logprob': -0.15338223, 'compression_ratio': 1.8554217, 'no_speech_prob': 5.291779e-13}, {'id': 68, 'seek': 5662, 'start': 282.07184, 'end': 285.1718, 'text': \" away people's ability to discern what's good for you and not good for you.\", 'tokens': [50746, 1314, 561, 311, 3485, 281, 30868, 437, 311, 665, 337, 291, 293, 406, 665, 337, 291, 13, 50901], 'temperature': 0, 'avg_logprob': -0.15338223, 'compression_ratio': 1.8554217, 'no_speech_prob': 5.291779e-13}, {'id': 69, 'seek': 5662, 'start': 285.1718, 'end': 288.07184, 'text': ' And the way to find that out is to have as much information as possible.', 'tokens': [50901, 400, 264, 636, 281, 915, 300, 484, 307, 281, 362, 382, 709, 1589, 382, 1944, 13, 51046], 'temperature': 0, 'avg_logprob': -0.15338223, 'compression_ratio': 1.8554217, 'no_speech_prob': 5.291779e-13}, {'id': 70, 'seek': 5662, 'start': 288.07184, 'end': 289.07184, 'text': ' Exactly.', 'tokens': [51046, 7587, 13, 51096], 'temperature': 0, 'avg_logprob': -0.15338223, 'compression_ratio': 1.8554217, 'no_speech_prob': 5.291779e-13}, {'id': 71, 'seek': 5662, 'start': 289.07184, 'end': 295.69183, 'text': ' So to do research and actually to have unbiased, actual objective observers who are looking', 'tokens': [51096, 407, 281, 360, 2132, 293, 767, 281, 362, 517, 5614, 1937, 11, 3539, 10024, 48090, 567, 366, 1237, 51427], 'temperature': 0, 'avg_logprob': -0.15338223, 'compression_ratio': 1.8554217, 'no_speech_prob': 5.291779e-13}, {'id': 72, 'seek': 5662, 'start': 295.69183, 'end': 298.01184, 'text': ' at all this stuff that give you real data.', 'tokens': [51427, 412, 439, 341, 1507, 300, 976, 291, 957, 1412, 13, 51543], 'temperature': 0, 'avg_logprob': -0.15338223, 'compression_ratio': 1.8554217, 'no_speech_prob': 5.291779e-13}, {'id': 73, 'seek': 5662, 'start': 298.01184, 'end': 299.91183, 'text': ' And the opposite of that...', 'tokens': [51543, 400, 264, 6182, 295, 300, 485, 51638], 'temperature': 0, 'avg_logprob': -0.15338223, 'compression_ratio': 1.8554217, 'no_speech_prob': 5.291779e-13}]\n"
          ]
        }
      ],
      "source": [
        "\n",
        "import os\n",
        "from groq import Groq\n",
        "\n",
        "client = Groq(api_key = \"GROQ_API_KEY\")\n",
        "filename = \"audio.mp3\"\n",
        "\n",
        "with open(filename, \"rb\") as file:\n",
        "    transcription = client.audio.transcriptions.create(\n",
        "      file=(filename, file.read()),\n",
        "      model=\"whisper-large-v3-turbo\",\n",
        "      response_format=\"verbose_json\",\n",
        "    )\n",
        "    print(transcription.segments)\n"
      ]
    },
    {
      "cell_type": "code",
      "execution_count": null,
      "metadata": {
        "id": "A_j_Xd26hzrb"
      },
      "outputs": [],
      "source": [
        "transcribed_text = transcription.text\n",
        "transcription_segments = transcription.segments"
      ]
    },
    {
      "cell_type": "markdown",
      "metadata": {
        "id": "X5lYgMuPhzUe"
      },
      "source": []
    },
    {
      "cell_type": "code",
      "execution_count": null,
      "metadata": {
        "colab": {
          "base_uri": "https://localhost:8080/"
        },
        "id": "g8OKYO8ZKD7F",
        "outputId": "e8b7dbcf-fd9a-4dc4-de0d-32d2340e7413"
      },
      "outputs": [
        {
          "name": "stdout",
          "output_type": "stream",
          "text": [
            "ChatCompletionMessage(content='{\\n   \"filler_words\": [\\n      \"Yeah\",\\n      \"I mean\",\\n      \"Like\",\\n      \"So\",\\n      \"You know\",\\n      \"Exactly\",\\n      \"Right\",\\n      \"It\\'s like\",\\n      \"I think\",\\n      \"You\\'re like\",\\n      \"I\\'m like\",\\n      \"That\\'s crazy\",\\n      \"It\\'s crazy\",\\n      \"Uh\",\\n      \"Oh yeah\"\\n   ]\\n}', role='assistant', function_call=None, reasoning=None, tool_calls=None)\n"
          ]
        }
      ],
      "source": [
        "from groq import Groq\n",
        "\n",
        "client = Groq(api_key=\"GROQ_API_KEY\")\n",
        "\n",
        "completion = client.chat.completions.create(\n",
        "    model=\"llama-3.3-70b-versatile\",\n",
        "    messages=[\n",
        "        {\n",
        "            \"role\": \"system\",\n",
        "            \"content\": \"You are an AI assistant analyzing a transcript. Your task is to identify and return only the filler words or unnecessary phrases that can be removed without altering the core meaning of the text. Respond exclusively in a JSON format with a single key: 'filler_words'.\"\n",
        "        },\n",
        "        {\n",
        "            \"role\": \"user\",\n",
        "            \"content\": transcribed_text\n",
        "        }\n",
        "    ],\n",
        "    temperature=0.7,\n",
        "    max_completion_tokens=512,\n",
        "    top_p=1,\n",
        "    stream=False,\n",
        "    response_format={\"type\": \"json_object\"},\n",
        ")\n",
        "\n",
        "print(completion.choices[0].message)\n"
      ]
    },
    {
      "cell_type": "code",
      "execution_count": null,
      "metadata": {
        "colab": {
          "base_uri": "https://localhost:8080/"
        },
        "id": "8FSSsWxNZXis",
        "outputId": "65cd9079-d724-4e7b-b004-0d7511a89b9c"
      },
      "outputs": [
        {
          "name": "stdout",
          "output_type": "stream",
          "text": [
            "Filler Words Identified:\n",
            " ['Yeah', 'I mean', 'Like', 'So', 'You know', 'Exactly', 'Right', \"It's like\", 'I think', \"You're like\", \"I'm like\", \"That's crazy\", \"It's crazy\", 'Uh', 'Oh yeah']\n"
          ]
        }
      ],
      "source": [
        "import json\n",
        "\n",
        "response_content = completion.choices[0].message.content\n",
        "filler_words_dict = json.loads(response_content)\n",
        "\n",
        "filler_words = filler_words_dict.get(\"filler_words\", [])\n",
        "print(\"Filler Words Identified:\\n\", filler_words)\n"
      ]
    },
    {
      "cell_type": "markdown",
      "metadata": {},
      "source": [
        "## Silence Detection"
      ]
    },
    {
      "cell_type": "code",
      "execution_count": null,
      "metadata": {
        "colab": {
          "base_uri": "https://localhost:8080/"
        },
        "id": "X8DMoX6yO31r",
        "outputId": "6bc79c1c-d7ca-46b1-9dd4-efb2413d063d"
      },
      "outputs": [
        {
          "name": "stdout",
          "output_type": "stream",
          "text": [
            "Requirement already satisfied: pydub in /usr/local/lib/python3.11/dist-packages (0.25.1)\n"
          ]
        }
      ],
      "source": [
        "!pip install pydub"
      ]
    },
    {
      "cell_type": "code",
      "execution_count": null,
      "metadata": {
        "colab": {
          "base_uri": "https://localhost:8080/"
        },
        "id": "TYeRbD_hUtDW",
        "outputId": "f0c5c36a-c773-4c3f-9928-eb508756fd64"
      },
      "outputs": [
        {
          "name": "stdout",
          "output_type": "stream",
          "text": [
            "✅ Silence Ranges (seconds): [(27.232, 27.936), (34.773, 35.558), (41.197, 41.761), (53.676, 54.298), (60.846, 61.448), (71.516, 72.243), (75.089, 75.734), (87.541, 88.227), (99.366, 100.238), (108.969, 109.473), (111.342, 112.167), (114.264, 115.006), (129.174, 129.676), (142.62, 143.253), (156.453, 157.284), (172.058, 172.582), (182.459, 183.042), (183.341, 183.873), (186.732, 187.518), (235.719, 236.473), (242.555, 243.144), (247.644, 248.617), (253.182, 253.877), (256.208, 256.782), (258.385, 259.102), (266.722, 267.356), (277.409, 277.992), (291.494, 291.998), (298.094, 298.717)]\n"
          ]
        }
      ],
      "source": [
        "from pydub import AudioSegment\n",
        "from pydub.silence import detect_silence\n",
        "\n",
        "audio = AudioSegment.from_file(\"audio.mp3\")\n",
        "\n",
        "silence_ranges = detect_silence(\n",
        "    audio,\n",
        "    min_silence_len=600,\n",
        "    silence_thresh=-40\n",
        ")\n",
        "\n",
        "\n",
        "silence_ranges_seconds = [(start / 1000, end / 1000) for start, end in silence_ranges]\n",
        "\n",
        "print(f\"Silence Ranges (seconds): {silence_ranges_seconds}\")\n"
      ]
    },
    {
      "cell_type": "markdown",
      "metadata": {},
      "source": [
        "## Trim Ranges (Silence + Filler words)"
      ]
    },
    {
      "cell_type": "code",
      "execution_count": null,
      "metadata": {
        "colab": {
          "base_uri": "https://localhost:8080/"
        },
        "id": "1pPOlp5yT6W1",
        "outputId": "b694972b-e0ec-435c-e1f6-df13ff667983"
      },
      "outputs": [
        {
          "name": "stdout",
          "output_type": "stream",
          "text": [
            "✅ Trim Points (Filler Words): [(4.6848936170212765, 4.864468085106383), (10.357254901960784, 10.487450980392156), (10.692533333333333, 10.920266666666667), (22.58551724137931, 22.904137931034484), (24.012063492063493, 24.22031746031746), (30.0612987012987, 30.796883116883116), (38.78752688172043, 38.97763440860215), (57.249756097560976, 57.47414634146342), (53.996097560975606, 54.10829268292683), (56.969268292682926, 57.47414634146342), (66.98849557522124, 67.26743362831859), (70.04563683544305, 70.3081841772152), (74.96839949367089, 75.23094683544305), (75.82167835443039, 76.21549936708861), (72.14601556962026, 72.40856291139241), (77.65950974683545, 78.18460443037975), (74.77148898734178, 75.23094683544305), (81.34561000000001, 81.56561), (82.06061, 82.28061), (84.30907153846154, 84.54291769230768), (91.61676384615384, 91.85061), (84.65984076923077, 85.12753307692307), (96.10394333333333, 96.47727666666667), (97.29499356164384, 97.6347195890411), (98.14430863013698, 98.48403465753424), (97.88951410958904, 98.05937712328767), (96.95526753424657, 97.6347195890411), (109.42959805084746, 109.7590895762712), (115.16742231884058, 115.38887217391304), (122.44172111111111, 122.74838777777778), (131.8826160909091, 132.05861572727272), (132.14661554545455, 132.32261518181818), (132.410615, 132.67461445454546), (132.71861436363636, 133.02661372727275), (151.15349104761907, 151.4378838095238), (151.508982, 151.93557114285716), (148.87834895238097, 149.16274171428572), (152.00666933333335, 152.50435666666667), (163.42332290697672, 163.59169453488371), (171.605222, 172.07422025), (172.62548773333333, 172.8676216), (172.92815506666668, 173.29135586666666), (174.92575946666668, 175.16789333333332), (174.5020252, 175.16789333333332), (178.93577142857143, 179.22668), (182.69683048780487, 182.97390414634145), (184.35927243902438, 184.63634609756096), (186.2987880487805, 186.85293536585365), (189.17563, 189.59803), (197.09045307692307, 197.43506794871794), (210.38959397959184, 210.6500017346939), (210.7151036734694, 211.10571530612245), (226.06282976744185, 226.27373501661128), (226.32646132890366, 226.5373665780731), (215.8866514950166, 216.09755674418605), (218.10115661129566, 218.31206186046512), (220.94837747508305, 221.15928272425248), (215.04303049833885, 215.14848312292358), (216.5193672425249, 216.62481986710964), (225.58829295681062, 225.69374558139535), (217.36298823920265, 217.78479873754154), (214.8848515614618, 214.9903041860465), (232.2836, 232.43889333333334), (236.49183, 236.77183), (245.48849666666666, 245.63516333333334), (246.37516333333332, 246.54849666666667), (247.81793837438423, 248.07606645320195), (250.59281522167487, 250.8509433004926), (246.65636201970443, 246.7854260591133), (248.20513049261083, 248.65685463054186), (247.55981029556648, 248.07606645320195), (264.4304174058577, 264.68606594142256), (274.59469714285717, 275.30898285714284), (288.1829511111111, 288.9607288888889), (289.1437964130435, 289.28770923913044)]\n",
            "✅ All Trim Ranges (Filler + Silence): [(4.6848936170212765, 4.864468085106383), (10.357254901960784, 10.487450980392156), (10.692533333333333, 10.920266666666667), (22.58551724137931, 22.904137931034484), (24.012063492063493, 24.22031746031746), (27.232, 27.936), (30.0612987012987, 30.796883116883116), (34.773, 35.558), (38.78752688172043, 38.97763440860215), (41.197, 41.761), (53.676, 54.298), (53.996097560975606, 54.10829268292683), (56.969268292682926, 57.47414634146342), (57.249756097560976, 57.47414634146342), (60.846, 61.448), (66.98849557522124, 67.26743362831859), (70.04563683544305, 70.3081841772152), (71.516, 72.243), (72.14601556962026, 72.40856291139241), (74.77148898734178, 75.23094683544305), (74.96839949367089, 75.23094683544305), (75.089, 75.734), (75.82167835443039, 76.21549936708861), (77.65950974683545, 78.18460443037975), (81.34561000000001, 81.56561), (82.06061, 82.28061), (84.30907153846154, 84.54291769230768), (84.65984076923077, 85.12753307692307), (87.541, 88.227), (91.61676384615384, 91.85061), (96.10394333333333, 96.47727666666667), (96.95526753424657, 97.6347195890411), (97.29499356164384, 97.6347195890411), (97.88951410958904, 98.05937712328767), (98.14430863013698, 98.48403465753424), (99.366, 100.238), (108.969, 109.473), (109.42959805084746, 109.7590895762712), (111.342, 112.167), (114.264, 115.006), (115.16742231884058, 115.38887217391304), (122.44172111111111, 122.74838777777778), (129.174, 129.676), (131.8826160909091, 132.05861572727272), (132.14661554545455, 132.32261518181818), (132.410615, 132.67461445454546), (132.71861436363636, 133.02661372727275), (142.62, 143.253), (148.87834895238097, 149.16274171428572), (151.15349104761907, 151.4378838095238), (151.508982, 151.93557114285716), (152.00666933333335, 152.50435666666667), (156.453, 157.284), (163.42332290697672, 163.59169453488371), (171.605222, 172.07422025), (172.058, 172.582), (172.62548773333333, 172.8676216), (172.92815506666668, 173.29135586666666), (174.5020252, 175.16789333333332), (174.92575946666668, 175.16789333333332), (178.93577142857143, 179.22668), (182.459, 183.042), (182.69683048780487, 182.97390414634145), (183.341, 183.873), (184.35927243902438, 184.63634609756096), (186.2987880487805, 186.85293536585365), (186.732, 187.518), (189.17563, 189.59803), (197.09045307692307, 197.43506794871794), (210.38959397959184, 210.6500017346939), (210.7151036734694, 211.10571530612245), (214.8848515614618, 214.9903041860465), (215.04303049833885, 215.14848312292358), (215.8866514950166, 216.09755674418605), (216.5193672425249, 216.62481986710964), (217.36298823920265, 217.78479873754154), (218.10115661129566, 218.31206186046512), (220.94837747508305, 221.15928272425248), (225.58829295681062, 225.69374558139535), (226.06282976744185, 226.27373501661128), (226.32646132890366, 226.5373665780731), (232.2836, 232.43889333333334), (235.719, 236.473), (236.49183, 236.77183), (242.555, 243.144), (245.48849666666666, 245.63516333333334), (246.37516333333332, 246.54849666666667), (246.65636201970443, 246.7854260591133), (247.55981029556648, 248.07606645320195), (247.644, 248.617), (247.81793837438423, 248.07606645320195), (248.20513049261083, 248.65685463054186), (250.59281522167487, 250.8509433004926), (253.182, 253.877), (256.208, 256.782), (258.385, 259.102), (264.4304174058577, 264.68606594142256), (266.722, 267.356), (274.59469714285717, 275.30898285714284), (277.409, 277.992), (288.1829511111111, 288.9607288888889), (289.1437964130435, 289.28770923913044), (291.494, 291.998), (298.094, 298.717)]\n"
          ]
        }
      ],
      "source": [
        "import re\n",
        "\n",
        "trim_points = []\n",
        "\n",
        "for segment in transcription_segments:\n",
        "    text = segment[\"text\"]\n",
        "    start_time = segment[\"start\"]\n",
        "    end_time = segment[\"end\"]\n",
        "\n",
        "    for filler in filler_words:\n",
        "        for match in re.finditer(r'\\b' + re.escape(filler) + r'\\b', text, re.IGNORECASE):\n",
        "            match_start = match.start() / len(text)\n",
        "            match_end = match.end() / len(text)\n",
        "\n",
        "            filler_start_time = start_time + (match_start * (end_time - start_time))\n",
        "            filler_end_time = start_time + (match_end * (end_time - start_time))\n",
        "\n",
        "            trim_points.append((filler_start_time, filler_end_time))\n",
        "\n",
        "\n",
        "all_trim_ranges = sorted(trim_points + silence_ranges_seconds)\n",
        "\n",
        "print(f\"Trim Points (Filler Words): {trim_points}\")\n",
        "print(f\"All Trim Ranges (Filler + Silence): {all_trim_ranges}\")\n"
      ]
    },
    {
      "cell_type": "markdown",
      "metadata": {},
      "source": [
        "## Trimming Audio using Librosa"
      ]
    },
    {
      "cell_type": "code",
      "execution_count": null,
      "metadata": {
        "colab": {
          "base_uri": "https://localhost:8080/"
        },
        "id": "0Ps_4DxmV4bz",
        "outputId": "a08898bb-6b66-4b61-c82f-1106cdcf7740"
      },
      "outputs": [
        {
          "name": "stdout",
          "output_type": "stream",
          "text": [
            "✅ Audio Processing Complete! Cleaned file saved as 'cleaned_audio.mp3'\n"
          ]
        }
      ],
      "source": [
        "import librosa\n",
        "import numpy as np\n",
        "import soundfile as sf\n",
        "\n",
        "\n",
        "y, sr = librosa.load(\"audio.mp3\", sr=None)\n",
        "\n",
        "\n",
        "samples_to_remove = []\n",
        "for start_time, end_time in all_trim_ranges:\n",
        "    start_sample = int(start_time * sr)\n",
        "    end_sample = int(end_time * sr)\n",
        "    samples_to_remove.append((start_sample, end_sample))\n",
        "\n",
        "audio_trimmed = []\n",
        "last_end = 0\n",
        "\n",
        "for start_sample, end_sample in samples_to_remove:\n",
        "    audio_trimmed.append(y[last_end:start_sample])\n",
        "    last_end = end_sample\n",
        "\n",
        "audio_trimmed.append(y[last_end:])\n",
        "\n",
        "audio_trimmed = np.concatenate(audio_trimmed)\n",
        "sf.write(\"cleaned_audio.mp3\", audio_trimmed, sr)\n",
        "\n",
        "print(\"Audio Processing Complete! Cleaned file saved as 'cleaned_audio.mp3'\")\n"
      ]
    },
    {
      "cell_type": "markdown",
      "metadata": {},
      "source": [
        "## Trimming the Whole Video"
      ]
    },
    {
      "cell_type": "code",
      "execution_count": null,
      "metadata": {
        "colab": {
          "base_uri": "https://localhost:8080/"
        },
        "id": "BDtSp3NkJOxr",
        "outputId": "23fb9033-3fd0-4064-a503-3d3e91e16f15"
      },
      "outputs": [
        {
          "name": "stdout",
          "output_type": "stream",
          "text": [
            "✅ Keep Ranges: [(0, 4.6848936170212765), (4.864468085106383, 10.357254901960784), (10.487450980392156, 10.692533333333333), (10.920266666666667, 22.58551724137931), (22.904137931034484, 24.012063492063493), (24.22031746031746, 27.232), (27.936, 30.0612987012987), (30.796883116883116, 34.773), (35.558, 38.78752688172043), (38.97763440860215, 41.197), (41.761, 53.676), (54.10829268292683, 56.969268292682926), (57.47414634146342, 60.846), (61.448, 66.98849557522124), (67.26743362831859, 70.04563683544305), (70.3081841772152, 71.516), (72.40856291139241, 74.77148898734178), (75.734, 75.82167835443039), (76.21549936708861, 77.65950974683545), (78.18460443037975, 81.34561000000001), (81.56561, 82.06061), (82.28061, 84.30907153846154), (84.54291769230768, 84.65984076923077), (85.12753307692307, 87.541), (88.227, 91.61676384615384), (91.85061, 96.10394333333333), (96.47727666666667, 96.95526753424657), (97.6347195890411, 97.88951410958904), (98.05937712328767, 98.14430863013698), (98.48403465753424, 99.366), (100.238, 108.969), (109.7590895762712, 111.342), (112.167, 114.264), (115.006, 115.16742231884058), (115.38887217391304, 122.44172111111111), (122.74838777777778, 129.174), (129.676, 131.8826160909091), (132.05861572727272, 132.14661554545455), (132.32261518181818, 132.410615), (132.67461445454546, 132.71861436363636), (133.02661372727275, 142.62), (143.253, 148.87834895238097), (149.16274171428572, 151.15349104761907), (151.4378838095238, 151.508982), (151.93557114285716, 152.00666933333335), (152.50435666666667, 156.453), (157.284, 163.42332290697672), (163.59169453488371, 171.605222), (172.582, 172.62548773333333), (172.8676216, 172.92815506666668), (173.29135586666666, 174.5020252), (175.16789333333332, 178.93577142857143), (179.22668, 182.459), (182.97390414634145, 183.341), (183.873, 184.35927243902438), (184.63634609756096, 186.2987880487805), (187.518, 189.17563), (189.59803, 197.09045307692307), (197.43506794871794, 210.38959397959184), (210.6500017346939, 210.7151036734694), (211.10571530612245, 214.8848515614618), (214.9903041860465, 215.04303049833885), (215.14848312292358, 215.8866514950166), (216.09755674418605, 216.5193672425249), (216.62481986710964, 217.36298823920265), (217.78479873754154, 218.10115661129566), (218.31206186046512, 220.94837747508305), (221.15928272425248, 225.58829295681062), (225.69374558139535, 226.06282976744185), (226.27373501661128, 226.32646132890366), (226.5373665780731, 232.2836), (232.43889333333334, 235.719), (236.473, 236.49183), (236.77183, 242.555), (243.144, 245.48849666666666), (245.63516333333334, 246.37516333333332), (246.54849666666667, 246.65636201970443), (246.7854260591133, 247.55981029556648), (248.07606645320195, 248.20513049261083), (248.65685463054186, 250.59281522167487), (250.8509433004926, 253.182), (253.877, 256.208), (256.782, 258.385), (259.102, 264.4304174058577), (264.68606594142256, 266.722), (267.356, 274.59469714285717), (275.30898285714284, 277.409), (277.992, 288.1829511111111), (288.9607288888889, 289.1437964130435), (289.28770923913044, 291.494), (291.998, 298.094), (298.717, 300.00181405895694)]\n"
          ]
        }
      ],
      "source": [
        "import subprocess\n",
        "\n",
        "def trim_video(input_path, output_path, keep_ranges):\n",
        "    filter_complex = []\n",
        "    inputs = []\n",
        "\n",
        "    for start, end in keep_ranges:\n",
        "        inputs.append(f\"between(t,{start},{end})\")\n",
        "\n",
        "    filter_str = f\"select='{'+'.join(inputs)}',setpts=N/FRAME_RATE/TB\"\n",
        "\n",
        "    cmd = [\n",
        "        \"ffmpeg\",\n",
        "        \"-i\", input_path,\n",
        "        \"-vf\", filter_str,\n",
        "        \"-af\", f\"aselect='{'+'.join(inputs)}',asetpts=N/SR/TB\",\n",
        "        \"-c:v\", \"libx264\",\n",
        "        \"-preset\", \"slow\",\n",
        "        \"-crf\", \"18\",\n",
        "        \"-c:a\", \"aac\",\n",
        "        \"-b:a\", \"192k\",\n",
        "        output_path\n",
        "    ]\n",
        "\n",
        "    subprocess.run(cmd)\n",
        "\n",
        "\n",
        "keep_ranges = []\n",
        "current_start = 0\n",
        "\n",
        "all_trim_ranges.sort()\n",
        "\n",
        "for start, end in all_trim_ranges:\n",
        "    keep_ranges.append((current_start, start))\n",
        "    current_start = end\n",
        "\n",
        "if current_start < audio.duration_seconds:\n",
        "    keep_ranges.append((current_start, audio.duration_seconds))\n",
        "\n",
        "keep_ranges = [r for r in keep_ranges if r[0] < r[1]]\n",
        "\n",
        "print(f\"Keep Ranges: {keep_ranges}\")\n",
        "trim_video(\"input.mp4\", \"output.mp4\", keep_ranges)\n"
      ]
    },
    {
      "cell_type": "code",
      "execution_count": null,
      "metadata": {
        "id": "bm3eqKg9IzIq"
      },
      "outputs": [],
      "source": []
    }
  ],
  "metadata": {
    "accelerator": "GPU",
    "colab": {
      "gpuType": "T4",
      "provenance": []
    },
    "kernelspec": {
      "display_name": "Python 3",
      "name": "python3"
    },
    "language_info": {
      "name": "python"
    }
  },
  "nbformat": 4,
  "nbformat_minor": 0
}
